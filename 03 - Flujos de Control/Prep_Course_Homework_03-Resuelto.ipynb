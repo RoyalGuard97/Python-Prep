{
 "cells": [
  {
   "cell_type": "markdown",
   "metadata": {},
   "source": [
    "## Flujos de Control"
   ]
  },
  {
   "cell_type": "markdown",
   "metadata": {},
   "source": [
    "1) Crear una variable que contenga un elemento del conjunto de números enteros y luego imprimir por pantalla si es mayor o menor a cero"
   ]
  },
  {
   "cell_type": "code",
   "execution_count": 5,
   "metadata": {},
   "outputs": [
    {
     "ename": "TypeError",
     "evalue": "'<' not supported between instances of 'str' and 'int'",
     "output_type": "error",
     "traceback": [
      "\u001b[1;31m---------------------------------------------------------------------------\u001b[0m",
      "\u001b[1;31mTypeError\u001b[0m                                 Traceback (most recent call last)",
      "\u001b[1;32mc:\\Users\\User\\OneDrive\\Documentos\\Prep Henry\\Python-Prep\\03 - Flujos de Control\\Prep_Course_Homework_03-Resuelto.ipynb Cell 3'\u001b[0m in \u001b[0;36m<cell line: 4>\u001b[1;34m()\u001b[0m\n\u001b[0;32m      <a href='vscode-notebook-cell:/c%3A/Users/User/OneDrive/Documentos/Prep%20Henry/Python-Prep/03%20-%20Flujos%20de%20Control/Prep_Course_Homework_03-Resuelto.ipynb#ch0000002?line=1'>2</a>\u001b[0m a \u001b[39m=\u001b[39m \u001b[39m\"\u001b[39m\u001b[39mhola\u001b[39m\u001b[39m\"\u001b[39m\n\u001b[0;32m      <a href='vscode-notebook-cell:/c%3A/Users/User/OneDrive/Documentos/Prep%20Henry/Python-Prep/03%20-%20Flujos%20de%20Control/Prep_Course_Homework_03-Resuelto.ipynb#ch0000002?line=2'>3</a>\u001b[0m \u001b[39m#Si a es menor que 0 entonces\u001b[39;00m\n\u001b[1;32m----> <a href='vscode-notebook-cell:/c%3A/Users/User/OneDrive/Documentos/Prep%20Henry/Python-Prep/03%20-%20Flujos%20de%20Control/Prep_Course_Homework_03-Resuelto.ipynb#ch0000002?line=3'>4</a>\u001b[0m \u001b[39mif\u001b[39;00m (a \u001b[39m<\u001b[39;49m \u001b[39m0\u001b[39;49m):\n\u001b[0;32m      <a href='vscode-notebook-cell:/c%3A/Users/User/OneDrive/Documentos/Prep%20Henry/Python-Prep/03%20-%20Flujos%20de%20Control/Prep_Course_Homework_03-Resuelto.ipynb#ch0000002?line=4'>5</a>\u001b[0m     \u001b[39m#Imprimimos que es menor que 0\u001b[39;00m\n\u001b[0;32m      <a href='vscode-notebook-cell:/c%3A/Users/User/OneDrive/Documentos/Prep%20Henry/Python-Prep/03%20-%20Flujos%20de%20Control/Prep_Course_Homework_03-Resuelto.ipynb#ch0000002?line=5'>6</a>\u001b[0m     \u001b[39mprint\u001b[39m(\u001b[39m'\u001b[39m\u001b[39mLa variable es menor a cero\u001b[39m\u001b[39m'\u001b[39m)\n\u001b[0;32m      <a href='vscode-notebook-cell:/c%3A/Users/User/OneDrive/Documentos/Prep%20Henry/Python-Prep/03%20-%20Flujos%20de%20Control/Prep_Course_Homework_03-Resuelto.ipynb#ch0000002?line=6'>7</a>\u001b[0m \u001b[39m#Ahora si a es mayor que 0 \u001b[39;00m\n",
      "\u001b[1;31mTypeError\u001b[0m: '<' not supported between instances of 'str' and 'int'"
     ]
    }
   ],
   "source": [
    "#La variable a se inicializa en 10\n",
    "a = \"hola\"\n",
    "#Si a es menor que 0 entonces\n",
    "if (a < 0):\n",
    "    #Imprimimos que es menor que 0\n",
    "    print('La variable es menor a cero')\n",
    "#Ahora si a es mayor que 0 \n",
    "elif (a > 0):\n",
    "    #Imprimimos que la variable es mayor que 0 \n",
    "    print('La varaible es mayor a cero')\n",
    "#Si no se cumple ninguna de estas:\n",
    "else:\n",
    "    #Imprimimos que la variable es igual a 0\n",
    "    print('La variable es igual a cero')"
   ]
  },
  {
   "cell_type": "code",
   "execution_count": 6,
   "metadata": {},
   "outputs": [
    {
     "name": "stdout",
     "output_type": "stream",
     "text": [
      "0 Es igual a 0\n",
      "10 Es mayor que 0\n",
      "-1 Es menor que 0\n"
     ]
    }
   ],
   "source": [
    "def comprobador_signo (numero):\n",
    "    if(numero >0):\n",
    "        print(numero,\"Es mayor que 0\")\n",
    "    elif(numero <0):\n",
    "        print(numero,\"Es menor que 0\")\n",
    "    else:\n",
    "        print(numero,\"Es igual a 0\")\n",
    "\n",
    "comprobador_signo(0)\n",
    "comprobador_signo(10)\n",
    "comprobador_signo(-1)\n"
   ]
  },
  {
   "cell_type": "markdown",
   "metadata": {},
   "source": [
    "2) Crear dos variables y un condicional que informe si son del mismo tipo de dato"
   ]
  },
  {
   "cell_type": "code",
   "execution_count": 5,
   "metadata": {},
   "outputs": [
    {
     "name": "stdout",
     "output_type": "stream",
     "text": [
      "Las variables son de tipos de dato diferentes\n"
     ]
    }
   ],
   "source": [
    "#La variable a se inicializa en 2\n",
    "a = 2\n",
    "#La variable b es ahora una cadena\n",
    "b = 'hola'\n",
    "#Si el tipo de a es igual al tipo de b\n",
    "if (type(a) == type(b)):\n",
    "    #Imprimimos las variables son del mismo tipo de dato\n",
    "    print('Las variables son del mismo tipo de dato')\n",
    "else:\n",
    "    #Sino, imprimimos las variables son de tipos de dato diferente.\n",
    "    print('Las variables son de tipos de dato diferentes')\n",
    "\n"
   ]
  },
  {
   "cell_type": "code",
   "execution_count": 8,
   "metadata": {},
   "outputs": [
    {
     "name": "stdout",
     "output_type": "stream",
     "text": [
      "Son del mismo tipo de Dato\n",
      "No son del mismo tipo de Dato\n",
      "No son del mismo tipo de Dato\n",
      "No son del mismo tipo de Dato\n",
      "Son del mismo tipo de Dato\n"
     ]
    }
   ],
   "source": [
    "def comprobador_tipo_dato (dato1,dato2):\n",
    "    if(type(dato1) == type(dato2)):\n",
    "        print(\"Son del mismo tipo de Dato\")\n",
    "    else:\n",
    "        print(\"No son del mismo tipo de Dato\")\n",
    "\n",
    "comprobador_tipo_dato(10,10)\n",
    "comprobador_tipo_dato(\"Hola\",4.5)\n",
    "comprobador_tipo_dato(10,10.2)\n",
    "comprobador_tipo_dato(\"2\",2)\n",
    "comprobador_tipo_dato([\"Hola\",\"Adios\"], [\"Konichiwa\",\"Sayonara\"])"
   ]
  },
  {
   "cell_type": "markdown",
   "metadata": {},
   "source": [
    "3) Para los valores enteros del 1 al 20, imprimir por pantalla si es par o impar"
   ]
  },
  {
   "cell_type": "code",
   "execution_count": null,
   "metadata": {},
   "outputs": [],
   "source": [
    "#Para una variable en un range de 1 al (21-1) 20\n",
    "for i in range(1, 21):\n",
    "    #Si la variable fuera divisible por 2\n",
    "    if i % 2 == 0:\n",
    "        #Imprimimos que dicho numero, (variable-string) es par\n",
    "        print('El número ', str(i), ' es par')\n",
    "    else:\n",
    "        #Sino, por ende dicho numero en string es impar\n",
    "        print('El número ', str(i), ' es impar')"
   ]
  },
  {
   "cell_type": "code",
   "execution_count": 15,
   "metadata": {},
   "outputs": [],
   "source": [
    "def identificador_pares(limite):\n",
    "    for i in range (1,limite+1):\n",
    "        if(i % 2 == 0):\n",
    "            print(i,\"Este número es Par\")\n",
    "        else:\n",
    "            print(i,\"este número es impar\")\n",
    "\n",
    "\n",
    "identificador_pares(0)"
   ]
  },
  {
   "cell_type": "markdown",
   "metadata": {},
   "source": [
    "4) En un ciclo for mostrar para los valores entre 0 y 5 el resultado de elevarlo a la potencia igual a 3"
   ]
  },
  {
   "cell_type": "code",
   "execution_count": null,
   "metadata": {},
   "outputs": [],
   "source": [
    "#Para un valor determinado en un rango de 0 a 6-1\n",
    "for i in range(0, 6):\n",
    "    #Imprimimos el que ese numero elevado a una potencia es al resultado\n",
    "    print('Valor:', str(i), ' Elevado a la 3ra potencia:', str(i**3))"
   ]
  },
  {
   "cell_type": "code",
   "execution_count": 17,
   "metadata": {},
   "outputs": [
    {
     "name": "stdout",
     "output_type": "stream",
     "text": [
      "1 elevado a la 4 es 1\n",
      "2 elevado a la 4 es 16\n",
      "3 elevado a la 4 es 81\n",
      "4 elevado a la 4 es 256\n",
      "5 elevado a la 4 es 625\n",
      "6 elevado a la 4 es 1296\n",
      "7 elevado a la 4 es 2401\n",
      "8 elevado a la 4 es 4096\n",
      "9 elevado a la 4 es 6561\n",
      "10 elevado a la 4 es 10000\n"
     ]
    }
   ],
   "source": [
    "def elevar_cuarta(numero):\n",
    "    for i in range (1,numero+1):\n",
    "        print(i,\"elevado a la 4 es\",i**4)\n",
    "\n",
    "elevar_cuarta(10)"
   ]
  },
  {
   "cell_type": "markdown",
   "metadata": {},
   "source": [
    "5) Crear una variable que contenga un número entero y realizar un ciclo for la misma cantidad de ciclos"
   ]
  },
  {
   "cell_type": "code",
   "execution_count": 23,
   "metadata": {},
   "outputs": [
    {
     "data": {
      "text/plain": [
       "'Perro Perro Perro Perro'"
      ]
     },
     "execution_count": 23,
     "metadata": {},
     "output_type": "execute_result"
    }
   ],
   "source": [
    "#Almacenar una cadena, otra cadena que se debe repetir una determinada cantidad de veces.\n",
    "\n",
    "def repetir_cadena (cadena,numero):\n",
    "    aux = \" \"+cadena\n",
    "    for i in range (0,numero):\n",
    "        cadena += aux\n",
    "    return cadena\n",
    "\n",
    "cadena = \"Perro\"\n",
    "\n",
    "repetir_cadena(cadena,3)\n",
    "\n"
   ]
  },
  {
   "cell_type": "markdown",
   "metadata": {},
   "source": [
    "6) Utilizar un ciclo while para realizar el factorial de un número guardado en una variable, sólo si la variable contiene un número entero mayor a 0"
   ]
  },
  {
   "cell_type": "code",
   "execution_count": 33,
   "metadata": {},
   "outputs": [
    {
     "name": "stdout",
     "output_type": "stream",
     "text": [
      "El factorial es 120\n"
     ]
    }
   ],
   "source": [
    "#Iniciamos la variable en 5\n",
    "n = 5\n",
    "#Comprobamos el tipo del numero es entero?\n",
    "if (type(n) == int):\n",
    "    #Ahora si el numero es mayor que 0\n",
    "    if (n > 0):\n",
    "        #Iniciamos el factorial como el numero\n",
    "        factorial = n\n",
    "        #Mientras que el numero en sí sea mayor que 2\n",
    "        while (n > 2):\n",
    "            #Hacemos que n decrezca en uno cada vez\n",
    "            n = n - 1\n",
    "            #Factorial es igual a Factorial por el numero decrecido - anteriormente.\n",
    "            factorial = factorial * n\n",
    "        #Cuando salimos del while, sabemos que nuestro factorial es el siguiente\n",
    "        print('El factorial es', factorial)\n",
    "    else:\n",
    "        #Si no es mayor que 0 entonces imprimimos que no lo es. \n",
    "        print('La variable no es mayor a cero')\n",
    "#Sino es Entero, entonces imprimimos, que no lo es. \n",
    "else:\n",
    "    print('La variable no es un entero')\n",
    "    "
   ]
  },
  {
   "cell_type": "code",
   "execution_count": 32,
   "metadata": {},
   "outputs": [
    {
     "data": {
      "text/plain": [
       "6"
      ]
     },
     "execution_count": 32,
     "metadata": {},
     "output_type": "execute_result"
    }
   ],
   "source": [
    "def factoria_ciclo_while (numero):\n",
    "    if(type(numero) == int):\n",
    "        if(numero > 0):\n",
    "            factorial = numero\n",
    "            while(numero>2):\n",
    "                numero -=1\n",
    "                factorial = factorial*numero\n",
    "            return factorial\n",
    "        else:\n",
    "            return None \n",
    "    else:\n",
    "        return None\n",
    "\n",
    "factoria_ciclo_while(3)\n"
   ]
  },
  {
   "cell_type": "markdown",
   "metadata": {},
   "source": [
    "7) Crear un ciclo for dentro de un ciclo while"
   ]
  },
  {
   "cell_type": "code",
   "execution_count": 38,
   "metadata": {},
   "outputs": [
    {
     "name": "stdout",
     "output_type": "stream",
     "text": [
      "Ciclo while nro 2\n",
      "Ciclo for nro 1\n",
      "Ciclo while nro 3\n",
      "Ciclo for nro 1\n",
      "Ciclo while nro 3\n",
      "Ciclo for nro 2\n",
      "Ciclo while nro 4\n",
      "Ciclo for nro 1\n",
      "Ciclo while nro 4\n",
      "Ciclo for nro 2\n",
      "Ciclo while nro 4\n",
      "Ciclo for nro 3\n",
      "Ciclo while nro 5\n",
      "Ciclo for nro 1\n",
      "Ciclo while nro 5\n",
      "Ciclo for nro 2\n",
      "Ciclo while nro 5\n",
      "Ciclo for nro 3\n",
      "Ciclo while nro 5\n",
      "Ciclo for nro 4\n"
     ]
    }
   ],
   "source": [
    "n = 0\n",
    "while(n < 5):\n",
    "    n += 1\n",
    "    for i in range(1,n):\n",
    "        print('Ciclo while nro ' + str(n))\n",
    "        print('Ciclo for nro ' + str(i))"
   ]
  },
  {
   "cell_type": "markdown",
   "metadata": {},
   "source": [
    "8) Crear un ciclo while dentro de un ciclo for"
   ]
  },
  {
   "cell_type": "code",
   "execution_count": 3,
   "metadata": {},
   "outputs": [],
   "source": [
    "n = 5\n",
    "for i in range(1, n):\n",
    "    while(n < 5):\n",
    "        n -= 1\n",
    "        print('Ciclo while nro ' + str(n))\n",
    "        print('Ciclo for nro ' + str(i))"
   ]
  },
  {
   "cell_type": "markdown",
   "metadata": {},
   "source": [
    "9) Imprimir los números primos existentes entre 0 y 30"
   ]
  },
  {
   "cell_type": "code",
   "execution_count": 60,
   "metadata": {},
   "outputs": [
    {
     "name": "stdout",
     "output_type": "stream",
     "text": [
      "2\n",
      "3\n",
      "5\n",
      "7\n",
      "11\n",
      "13\n",
      "17\n",
      "19\n",
      "23\n",
      "29\n",
      "31\n",
      "37\n",
      "41\n",
      "43\n",
      "47\n",
      "53\n",
      "59\n",
      "61\n",
      "67\n",
      "71\n",
      "73\n",
      "79\n",
      "83\n",
      "89\n",
      "97\n"
     ]
    }
   ],
   "source": [
    "def identificador_primos(numero):\n",
    "    primo = True\n",
    "    if(numero>1):\n",
    "        for divisor in range (2,(numero//2)+1):\n",
    "            if(numero % divisor == 0):\n",
    "                primo = False\n",
    "                break\n",
    "        return primo\n",
    "    else:\n",
    "        primo = False\n",
    "        return primo\n",
    "\n",
    "def imprimir_primos_rango(limite):\n",
    "    for elemento in range(2,limite+1):\n",
    "        if(identificador_primos(elemento)):\n",
    "            print(elemento)\n",
    "\n",
    "imprimir_primos_rango(100)\n"
   ]
  },
  {
   "cell_type": "markdown",
   "metadata": {},
   "source": [
    "10) ¿Se puede mejorar el proceso del punto 9? Utilizar las sentencias break y/ó continue para tal fin"
   ]
  },
  {
   "cell_type": "code",
   "execution_count": 55,
   "metadata": {},
   "outputs": [
    {
     "name": "stdout",
     "output_type": "stream",
     "text": [
      "0\n",
      "1\n",
      "2\n",
      "3\n",
      "5\n",
      "7\n",
      "11\n",
      "13\n",
      "17\n",
      "19\n",
      "23\n",
      "29\n"
     ]
    }
   ],
   "source": [
    "n = 0\n",
    "primo = True\n",
    "while (n < tope_rango):\n",
    "    for div in range(2, n):\n",
    "        if (n % div == 0):\n",
    "            primo = False\n",
    "            break\n",
    "    if (primo):\n",
    "        print(n)\n",
    "    else:\n",
    "        primo = True\n",
    "    n += 1"
   ]
  },
  {
   "cell_type": "markdown",
   "metadata": {},
   "source": [
    "11) En los puntos 9 y 10, se diseño un código que encuentra números primos y además se lo optimizó. ¿Es posible saber en qué medida se optimizó?"
   ]
  },
  {
   "cell_type": "code",
   "execution_count": 56,
   "metadata": {},
   "outputs": [
    {
     "name": "stdout",
     "output_type": "stream",
     "text": [
      "0\n",
      "1\n",
      "2\n",
      "3\n",
      "5\n",
      "7\n",
      "11\n",
      "13\n",
      "17\n",
      "19\n",
      "23\n",
      "29\n",
      "Cantidad de ciclos: 378\n"
     ]
    }
   ],
   "source": [
    "ciclos_sin_break = 0\n",
    "n = 0\n",
    "primo = True\n",
    "while (n < tope_rango):\n",
    "    for div in range(2, n):\n",
    "        ciclos_sin_break += 1\n",
    "        if (n % div == 0):\n",
    "            primo = False\n",
    "    if (primo):\n",
    "        print(n)\n",
    "    else:\n",
    "        primo = True\n",
    "    n += 1\n",
    "print('Cantidad de ciclos: ' + str(ciclos_sin_break))"
   ]
  },
  {
   "cell_type": "code",
   "execution_count": 57,
   "metadata": {},
   "outputs": [
    {
     "name": "stdout",
     "output_type": "stream",
     "text": [
      "0\n",
      "1\n",
      "2\n",
      "3\n",
      "5\n",
      "7\n",
      "11\n",
      "13\n",
      "17\n",
      "19\n",
      "23\n",
      "29\n",
      "Cantidad de ciclos: 134\n",
      "Se optimizó a un 0.3544973544973545% de ciclos aplicando break\n"
     ]
    }
   ],
   "source": [
    "ciclos_con_break = 0\n",
    "n = 0\n",
    "primo = True\n",
    "while (n < tope_rango):\n",
    "    for div in range(2, n):\n",
    "        ciclos_con_break += 1\n",
    "        if (n % div == 0):\n",
    "            primo = False\n",
    "            break\n",
    "    if (primo):\n",
    "        print(n)\n",
    "    else:\n",
    "        primo = True\n",
    "    n += 1\n",
    "print('Cantidad de ciclos: ' + str(ciclos_con_break))\n",
    "print('Se optimizó a un ' + str(ciclos_con_break/ciclos_sin_break) + '% de ciclos aplicando break')"
   ]
  },
  {
   "cell_type": "markdown",
   "metadata": {},
   "source": [
    "12) Si la cantidad de números que se evalúa es mayor a treinta, esa optimización crece?"
   ]
  },
  {
   "cell_type": "code",
   "execution_count": 58,
   "metadata": {},
   "outputs": [
    {
     "name": "stdout",
     "output_type": "stream",
     "text": [
      "0\n",
      "1\n",
      "2\n",
      "3\n",
      "5\n",
      "7\n",
      "11\n",
      "13\n",
      "17\n",
      "19\n",
      "23\n",
      "29\n",
      "31\n",
      "37\n",
      "41\n",
      "43\n",
      "47\n",
      "53\n",
      "59\n",
      "61\n",
      "67\n",
      "71\n",
      "73\n",
      "79\n",
      "83\n",
      "89\n",
      "97\n",
      "Cantidad de ciclos: 4753\n"
     ]
    }
   ],
   "source": [
    "tope_rango=100\n",
    "ciclos_sin_break = 0\n",
    "n = 0\n",
    "primo = True\n",
    "while (n < tope_rango):\n",
    "    for div in range(2, n):\n",
    "        ciclos_sin_break += 1\n",
    "        if (n % div == 0):\n",
    "            primo = False\n",
    "    if (primo):\n",
    "        print(n)\n",
    "    else:\n",
    "        primo = True\n",
    "    n += 1\n",
    "print('Cantidad de ciclos: ' + str(ciclos_sin_break))"
   ]
  },
  {
   "cell_type": "code",
   "execution_count": 59,
   "metadata": {},
   "outputs": [
    {
     "name": "stdout",
     "output_type": "stream",
     "text": [
      "0\n",
      "1\n",
      "2\n",
      "3\n",
      "5\n",
      "7\n",
      "11\n",
      "13\n",
      "17\n",
      "19\n",
      "23\n",
      "29\n",
      "31\n",
      "37\n",
      "41\n",
      "43\n",
      "47\n",
      "53\n",
      "59\n",
      "61\n",
      "67\n",
      "71\n",
      "73\n",
      "79\n",
      "83\n",
      "89\n",
      "97\n",
      "Cantidad de ciclos: 1132\n",
      "Se optimizó a un 0.2381653692404797% de ciclos aplicando break\n"
     ]
    }
   ],
   "source": [
    "ciclos_con_break = 0\n",
    "n = 0\n",
    "primo = True\n",
    "while (n < tope_rango):\n",
    "    for div in range(2, n):\n",
    "        ciclos_con_break += 1\n",
    "        if (n % div == 0):\n",
    "            primo = False\n",
    "            break\n",
    "    if (primo):\n",
    "        print(n)\n",
    "    else:\n",
    "        primo = True\n",
    "    n += 1\n",
    "print('Cantidad de ciclos: ' + str(ciclos_con_break))\n",
    "print('Se optimizó a un ' + str(ciclos_con_break/ciclos_sin_break) + '% de ciclos aplicando break')"
   ]
  },
  {
   "cell_type": "markdown",
   "metadata": {},
   "source": [
    "13) Aplicando continue, armar un ciclo while que solo imprima los valores divisibles por 12, dentro del rango de números de 100 a 300"
   ]
  },
  {
   "cell_type": "code",
   "execution_count": 61,
   "metadata": {},
   "outputs": [
    {
     "name": "stdout",
     "output_type": "stream",
     "text": [
      "p\n",
      "e\n",
      "o\n",
      " \n",
      "q\n",
      "u\n",
      "e\n",
      " \n",
      "l\n",
      "a\n",
      "d\n",
      "a\n",
      " \n",
      "n\n",
      "o\n",
      " \n",
      "m\n",
      "u\n",
      "e\n",
      "d\n",
      "e\n"
     ]
    }
   ],
   "source": [
    "cadena = \"perro que ladra no muerde\"\n",
    "for letra in cadena:\n",
    "    if(letra == \"r\"):\n",
    "        continue #Continue reinicia el ciclo al encontrar una excepcion, mientras que break lo rompe\n",
    "    print(letra)"
   ]
  },
  {
   "cell_type": "markdown",
   "metadata": {},
   "source": [
    "14) Utilizar la función **input()** que permite hacer ingresos por teclado, para encontrar números primos y dar la opción al usario de buscar el siguiente"
   ]
  },
  {
   "cell_type": "code",
   "execution_count": 73,
   "metadata": {},
   "outputs": [
    {
     "name": "stdout",
     "output_type": "stream",
     "text": [
      "1\n",
      "¿Desea encontrar el siguiente número primo?\n",
      "2\n",
      "¿Desea encontrar el siguiente número primo?\n",
      "3\n",
      "¿Desea encontrar el siguiente número primo?\n",
      "5\n",
      "¿Desea encontrar el siguiente número primo?\n",
      "7\n",
      "¿Desea encontrar el siguiente número primo?\n",
      "11\n",
      "¿Desea encontrar el siguiente número primo?\n",
      "13\n",
      "¿Desea encontrar el siguiente número primo?\n",
      "Se finaliza el proceso\n"
     ]
    }
   ],
   "source": [
    "n = 1\n",
    "sigue = 1\n",
    "primo = True\n",
    "while (sigue == 1):\n",
    "    for div in range(2, n):\n",
    "        if (n % div == 0):\n",
    "            primo = False\n",
    "            break\n",
    "    if (primo):\n",
    "        print(n)\n",
    "        print('¿Desea encontrar el siguiente número primo?')\n",
    "        if (input() != '1'):\n",
    "            print('Se finaliza el proceso')\n",
    "            break\n",
    "    else:\n",
    "        primo = True\n",
    "    n += 1"
   ]
  },
  {
   "cell_type": "markdown",
   "metadata": {},
   "source": [
    "15) Crear un ciclo while que encuentre dentro del rango de 100 a 300 el primer número divisible por 3 y además múltiplo de 6"
   ]
  },
  {
   "cell_type": "code",
   "execution_count": 69,
   "metadata": {},
   "outputs": [
    {
     "name": "stdout",
     "output_type": "stream",
     "text": [
      "111\n"
     ]
    }
   ],
   "source": [
    "n = 102\n",
    "while(n<150):\n",
    "    if(n%37==0):\n",
    "        print(n)\n",
    "        break\n",
    "    n+=1\n"
   ]
  }
 ],
 "metadata": {
  "interpreter": {
   "hash": "c85384e4cb51c8b72350f3a8712cc8351fdc3955e32a27f9b60c6242ab125f01"
  },
  "kernelspec": {
   "display_name": "Python 3 (ipykernel)",
   "language": "python",
   "name": "python3"
  },
  "language_info": {
   "codemirror_mode": {
    "name": "ipython",
    "version": 3
   },
   "file_extension": ".py",
   "mimetype": "text/x-python",
   "name": "python",
   "nbconvert_exporter": "python",
   "pygments_lexer": "ipython3",
   "version": "3.10.2"
  }
 },
 "nbformat": 4,
 "nbformat_minor": 4
}
